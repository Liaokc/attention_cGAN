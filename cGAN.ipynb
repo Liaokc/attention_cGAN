{
 "cells": [
  {
   "cell_type": "code",
   "execution_count": 5,
   "metadata": {},
   "outputs": [],
   "source": [
    "import torch\n",
    "from torch import nn\n",
    "from torch import optim\n",
    "import torch.nn.functional as F\n",
    "\n",
    "from utils.DataLoad import load_embedding, get_embedding_tensor"
   ]
  },
  {
   "cell_type": "code",
   "execution_count": 2,
   "metadata": {},
   "outputs": [],
   "source": [
    "embedding_vecs = load_embedding(\"data/model/embedding.txt\")"
   ]
  },
  {
   "cell_type": "code",
   "execution_count": 4,
   "metadata": {},
   "outputs": [
    {
     "name": "stdout",
     "output_type": "stream",
     "text": [
      "Embedding tensor shape: torch.Size([13308, 128])\n"
     ]
    }
   ],
   "source": [
    "embedding_tensor = get_embedding_tensor(embedding_vecs, 13308, 128)"
   ]
  },
  {
   "cell_type": "code",
   "execution_count": null,
   "metadata": {},
   "outputs": [],
   "source": [
    "# 定义生成器\n",
    "class Generator(nn.Module):\n",
    "    \"\"\"\n",
    "    创建生成器\n",
    "    :param input_size: 接收的随机噪声的维度大小\n",
    "    :param phylogenetic_embedding_size: 系统发育树节点的嵌入向量的维度大小\n",
    "    :param hidden_size: 隐藏层大小\n",
    "    :output_size: 输出向量维度\n",
    "    \"\"\"\n",
    "    def __init__(self, input_size: int, phylogenetic_embedding_size: int, hidden_size: int, output_size: int):\n",
    "        super(Generator, self).__init__()\n",
    "        self.fc1_1 = nn.Linear(input_size, hidden_size)\n",
    "        self.fc1_1_bn = nn.BatchNorm1d(hidden_size)\n",
    "        self.fc1_2 = nn.Linear(phylogenetic_embedding_size, hidden_size)\n",
    "        self.fc1_2_bn = nn.BatchNorm1d(hidden_size)\n",
    "        self.fc2 = nn.Linear(hidden_size * 2, hidden_size)\n",
    "        self.fc2_bn = nn.BatchNorm1d(hidden_size)\n",
    "        self.fc3 = nn.Linear(hidden_size, output_size)\n",
    "        self.relu = nn.ReLU()\n",
    "        self.sigmoid = nn.Sigmoid()\n",
    "\n",
    "    def forward(self, x, phylogenetic_embedding):\n",
    "        \"\"\"\n",
    "        生成器向前传播\n",
    "        :param x: 随机噪声\n",
    "        :param phylogentic_embedding: 系统发育树嵌入向量\n",
    "        return: 生成器输出\n",
    "        \"\"\"\n",
    "        x = F.relu(self.fc1_1_bn(self.fc1_1(input)))\n",
    "        y = F.relu(self.fc1_2_bn(self.fc1_2(phylogenetic_embedding)))\n",
    "        z = torch.cat([x, y], 1)\n",
    "        z = F.relu(self.fc2_bn(self.fc2(z)))\n",
    "        z = self.sigmoid(self.fc3(z))\n",
    "        return z\n"
   ]
  },
  {
   "cell_type": "code",
   "execution_count": null,
   "metadata": {},
   "outputs": [],
   "source": [
    "class Generator(nn.Module):\n",
    "    def __init__(self, input_size, phylogenetic_embedding_size, hidden_size, output_size):\n",
    "        super(Generator, self).__init__()\n",
    "        self.fc1_1 = nn.Linear(input_size, hidden_size)\n",
    "        self.fc1_1_bn = nn.BatchNorm1d(hidden_size)\n",
    "        self.fc1_2 = nn.Linear(phylogenetic_embedding_size, hidden_size)\n",
    "        self.fc1_2_bn = nn.BatchNorm1d(hidden_size)\n",
    "        self.fc2 = nn.Linear(hidden_size * 2, hidden_size)\n",
    "        self.fc2_bn = nn.BatchNorm1d(hidden_size)\n",
    "        self.fc3 = nn.Linear(hidden_size, output_size)\n",
    "        self.relu = nn.ReLU()\n",
    "        self.sigmoid = nn.Sigmoid()\n",
    "\n",
    "    def forward(self, input, phylogenetic_embedding):\n",
    "        x = F.relu(self.fc1_1_bn(self.fc1_1(input)))\n",
    "        y = F.relu(self.fc1_2_bn(self.fc1_2(phylogenetic_embedding)))\n",
    "        z = torch.cat([x, y], 1)\n",
    "        z = F.relu(self.fc2_bn(self.fc2(z)))\n",
    "        z = self.sigmoid(self.fc3(z))\n",
    "        return z"
   ]
  },
  {
   "cell_type": "code",
   "execution_count": null,
   "metadata": {},
   "outputs": [],
   "source": [
    "\n",
    "# 设置超参数\n",
    "input_size = 100  # 输入随机噪声的大小\n",
    "phylogenetic_embedding_size = 128  # 系统发育树节点的嵌入向量大小\n",
    "hidden_size = 256  # 隐藏层的大小\n",
    "output_size = 98  # 生成器输出的维度\n",
    "lr = 0.0002  # 学习率\n",
    "\n",
    "# 初始化生成器、判别器和注意力机制模块\n",
    "generator = Generator(input_size, hidden_size, output_size)\n",
    "discriminator = Discriminator(output_size, hidden_size)\n",
    "attention = AttentionMechanism(phylogenetic_embedding_size, hidden_size)  # 自行实现注意力机制模块\n",
    "\n",
    "# 定义优化器和损失函数\n",
    "optimizer_G = optim.Adam(generator.parameters(), lr=lr)\n",
    "optimizer_D = optim.Adam(discriminator.parameters(), lr=lr)\n",
    "criterion = nn.BCELoss()\n",
    "\n",
    "# 训练过程\n",
    "for epoch in range(num_epochs):\n",
    "    for i, (real_data, phylogenetic_embedding) in enumerate(data_loader):\n",
    "        # 训练判别器\n",
    "        optimizer_D.zero_grad()\n",
    "        # 生成假样本\n",
    "        noise = torch.randn(batch_size, input_size)\n",
    "        fake_data = generator(noise, phylogenetic_embedding)\n",
    "        # 计算假样本的损失\n",
    "        pred_fake = discriminator(fake_data, phylogenetic_embedding)\n",
    "        loss_fake = criterion(pred_fake, torch.zeros_like(pred_fake))\n",
    "        # 计算真实样本的损失\n",
    "        pred_real = discriminator(real_data, phylogenetic_embedding)\n",
    "        loss_real = criterion(pred_real, torch.ones_like(pred_real))\n",
    "        # 更新判别器参数\n",
    "        loss_D = loss_fake + loss_real\n",
    "        loss_D.backward()\n",
    "        optimizer_D.step()\n",
    "\n",
    "        # 训练生成器\n",
    "        optimizer_G.zero_grad()\n",
    "        # 生成假样本\n",
    "        noise = torch.randn(batch_size, input_size)\n",
    "        fake_data = generator(noise, phylogenetic_embedding)\n",
    "        # 计算假样本在判别器上的输出\n",
    "        pred_fake = discriminator(fake_data, phylogenetic_embedding)\n",
    "        # 计算生成器的损失\n",
    "        loss_G = criterion(pred_fake, torch.ones_like(pred_fake))\n",
    "        # 更新生成器参数\n",
    "        loss_G.backward()\n",
    "        optimizer_G.step()\n"
   ]
  },
  {
   "cell_type": "code",
   "execution_count": null,
   "metadata": {},
   "outputs": [],
   "source": []
  }
 ],
 "metadata": {
  "kernelspec": {
   "display_name": "microb",
   "language": "python",
   "name": "python3"
  },
  "language_info": {
   "codemirror_mode": {
    "name": "ipython",
    "version": 3
   },
   "file_extension": ".py",
   "mimetype": "text/x-python",
   "name": "python",
   "nbconvert_exporter": "python",
   "pygments_lexer": "ipython3",
   "version": "3.9.19"
  }
 },
 "nbformat": 4,
 "nbformat_minor": 2
}
